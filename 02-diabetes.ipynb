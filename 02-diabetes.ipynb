{
  "nbformat": 4,
  "nbformat_minor": 0,
  "metadata": {
    "colab": {
      "name": "02-diabetes.ipynb",
      "provenance": [],
      "collapsed_sections": [],
      "toc_visible": true
    },
    "kernelspec": {
      "display_name": "Python 3",
      "language": "python",
      "name": "python3"
    },
    "language_info": {
      "codemirror_mode": {
        "name": "ipython",
        "version": 3
      },
      "file_extension": ".py",
      "mimetype": "text/x-python",
      "name": "python",
      "nbconvert_exporter": "python",
      "pygments_lexer": "ipython3",
      "version": "3.6.4"
    }
  },
  "cells": [
    {
      "cell_type": "markdown",
      "metadata": {
        "id": "CagUafN9EINw",
        "colab_type": "text"
      },
      "source": [
        "# Pronóstico de la evolución de pacientes con diabetes"
      ]
    },
    {
      "cell_type": "markdown",
      "metadata": {
        "id": "jCqn3fu7w2Nw",
        "colab_type": "text"
      },
      "source": [
        "## Descripción del problema real"
      ]
    },
    {
      "cell_type": "markdown",
      "metadata": {
        "id": "fIoUAXfzw2Nw",
        "colab_type": "text"
      },
      "source": [
        "Los tratamientos médicos están basados en las expectativas de recuperación o el avance de una enfermedad para tomar decisiones. En este caso, un equipo médico desea contar con pronósticos de pacientes con diabetes para tomar decisiones sobre su tratamiento."
      ]
    },
    {
      "cell_type": "markdown",
      "metadata": {
        "id": "yjJEXmasw2Nx",
        "colab_type": "text"
      },
      "source": [
        "## Descripción del problema en términos de los datos"
      ]
    },
    {
      "cell_type": "markdown",
      "metadata": {
        "id": "MVKnEB81w2Nx",
        "colab_type": "text"
      },
      "source": [
        "Se desea determinar el progreso de la diabeteis un año hacia adelante a partir de las variables medidas para 442 pacientes. La información está almacenada en el archivo `datos/diabetes.csv`. Las variables medidas son: edad, sexo, indice de masa corporal, presión sanguinea y seis medidas de serum en la sangre. Se desea pronósticar el progreso de la enfermedad a partir de las variables dadas."
      ]
    },
    {
      "cell_type": "markdown",
      "metadata": {
        "id": "l3LTUj9Cw2Nx",
        "colab_type": "text"
      },
      "source": [
        "## Aproximaciones posibles"
      ]
    },
    {
      "cell_type": "markdown",
      "metadata": {
        "id": "GbK4ksphw2Ny",
        "colab_type": "text"
      },
      "source": [
        "En este caso, se desea comparar los resultados de un modelo de regresión lineal y un modelo de redes neuronales artificiales."
      ]
    },
    {
      "cell_type": "markdown",
      "metadata": {
        "id": "3_7dtOMaw2Ny",
        "colab_type": "text"
      },
      "source": [
        "## Requerimientos"
      ]
    },
    {
      "cell_type": "markdown",
      "metadata": {
        "id": "Uq7LsUJPw2Nz",
        "colab_type": "text"
      },
      "source": [
        "Usted debe:\n",
        "\n",
        "* Determinar cuáles de las variables consideradas son relevantes para el problema.\n",
        "\n",
        "\n",
        "* Determinar si hay alguna transformación de las variables de entrada o de salida que mejore el pronóstico del modelo.\n",
        "\n",
        "\n",
        "* Construir un modelo de regresión lineal que sirva como base para construir un modelo de redes neuronales artificiales.\n",
        "\n",
        "\n",
        "\n",
        "* Construir un modelo de redes neuronales artificiales. Asimismo, debe determinar el número de neuronas en la capa o capas ocultas.\n",
        "\n",
        "\n",
        "* Utiizar una técnica como crossvalidation u otra similar para establecer la robustez del modelo."
      ]
    },
    {
      "cell_type": "markdown",
      "metadata": {
        "id": "0Pt_09_uE0Fc",
        "colab_type": "text"
      },
      "source": [
        "# Solución"
      ]
    },
    {
      "cell_type": "code",
      "metadata": {
        "id": "ZmkDeoyNw2Nz",
        "colab_type": "code",
        "colab": {
          "base_uri": "https://localhost:8080/",
          "height": 34
        },
        "outputId": "d80df26c-31fe-431b-c32e-71fc77f5822e"
      },
      "source": [
        "import pandas as pd\n",
        "import numpy as np\n",
        "import math\n",
        "import matplotlib.pyplot as plt\n",
        "\n",
        "from sklearn import metrics\n",
        "from sklearn.linear_model import LinearRegression\n",
        "from sklearn.model_selection import train_test_split\n",
        "from sklearn.model_selection import KFold\n",
        "from sklearn.preprocessing import MinMaxScaler\n",
        "\n",
        "%tensorflow_version 1.x\n",
        "import tensorflow as tf\n",
        "from tensorflow.python.keras.models import Sequential\n",
        "from tensorflow.python.keras.layers import Dense\n",
        "from tensorflow.python.keras.wrappers.scikit_learn import KerasRegressor\n",
        "\n",
        "import logging\n",
        "tf.get_logger().setLevel(logging.ERROR)\n"
      ],
      "execution_count": 2,
      "outputs": [
        {
          "output_type": "stream",
          "text": [
            "TensorFlow 1.x selected.\n"
          ],
          "name": "stdout"
        }
      ]
    },
    {
      "cell_type": "markdown",
      "metadata": {
        "id": "Wj1uTmpuw2N1",
        "colab_type": "text"
      },
      "source": [
        "## Lectura CSV\n"
      ]
    },
    {
      "cell_type": "code",
      "metadata": {
        "id": "ZNRRsLDHw2N1",
        "colab_type": "code",
        "colab": {}
      },
      "source": [
        "diabetes_df = pd.read_csv('https://raw.githubusercontent.com/ANN-2019-2/evaluacion-edalpin/master/datos/diabetes.csv')"
      ],
      "execution_count": 0,
      "outputs": []
    },
    {
      "cell_type": "markdown",
      "metadata": {
        "id": "PtDJnOx1w2N5",
        "colab_type": "text"
      },
      "source": [
        "## Relacion entre variables"
      ]
    },
    {
      "cell_type": "markdown",
      "metadata": {
        "id": "zeP5cZbTw2N6",
        "colab_type": "text"
      },
      "source": [
        "Para indentificar correlación entre las variables contenidas en el documento CSV, usaré el metodo *corr* el cualme permite obtener valores de correlación entre todas las variables, proporcionando un valor entre -1 y 1, entre mas cercano al 0 menor sera la corrrelación."
      ]
    },
    {
      "cell_type": "code",
      "metadata": {
        "scrolled": true,
        "id": "3AnDEDBZw2N6",
        "colab_type": "code",
        "colab": {
          "base_uri": "https://localhost:8080/",
          "height": 390
        },
        "outputId": "14bbdffd-0dc0-4111-a63f-45d60b856c6d"
      },
      "source": [
        "diabetes_df.corr()"
      ],
      "execution_count": 4,
      "outputs": [
        {
          "output_type": "execute_result",
          "data": {
            "text/html": [
              "<div>\n",
              "<style scoped>\n",
              "    .dataframe tbody tr th:only-of-type {\n",
              "        vertical-align: middle;\n",
              "    }\n",
              "\n",
              "    .dataframe tbody tr th {\n",
              "        vertical-align: top;\n",
              "    }\n",
              "\n",
              "    .dataframe thead th {\n",
              "        text-align: right;\n",
              "    }\n",
              "</style>\n",
              "<table border=\"1\" class=\"dataframe\">\n",
              "  <thead>\n",
              "    <tr style=\"text-align: right;\">\n",
              "      <th></th>\n",
              "      <th>age</th>\n",
              "      <th>sex</th>\n",
              "      <th>bmi</th>\n",
              "      <th>bp</th>\n",
              "      <th>s1</th>\n",
              "      <th>s2</th>\n",
              "      <th>s3</th>\n",
              "      <th>s4</th>\n",
              "      <th>s5</th>\n",
              "      <th>s6</th>\n",
              "      <th>Y</th>\n",
              "    </tr>\n",
              "  </thead>\n",
              "  <tbody>\n",
              "    <tr>\n",
              "      <th>age</th>\n",
              "      <td>1.000000</td>\n",
              "      <td>0.173737</td>\n",
              "      <td>0.185085</td>\n",
              "      <td>0.335427</td>\n",
              "      <td>0.260061</td>\n",
              "      <td>0.219243</td>\n",
              "      <td>-0.075181</td>\n",
              "      <td>0.203841</td>\n",
              "      <td>0.270777</td>\n",
              "      <td>0.301731</td>\n",
              "      <td>0.187889</td>\n",
              "    </tr>\n",
              "    <tr>\n",
              "      <th>sex</th>\n",
              "      <td>0.173737</td>\n",
              "      <td>1.000000</td>\n",
              "      <td>0.088161</td>\n",
              "      <td>0.241013</td>\n",
              "      <td>0.035277</td>\n",
              "      <td>0.142637</td>\n",
              "      <td>-0.379090</td>\n",
              "      <td>0.332115</td>\n",
              "      <td>0.149918</td>\n",
              "      <td>0.208133</td>\n",
              "      <td>0.043062</td>\n",
              "    </tr>\n",
              "    <tr>\n",
              "      <th>bmi</th>\n",
              "      <td>0.185085</td>\n",
              "      <td>0.088161</td>\n",
              "      <td>1.000000</td>\n",
              "      <td>0.395415</td>\n",
              "      <td>0.249777</td>\n",
              "      <td>0.261170</td>\n",
              "      <td>-0.366811</td>\n",
              "      <td>0.413807</td>\n",
              "      <td>0.446159</td>\n",
              "      <td>0.388680</td>\n",
              "      <td>0.586450</td>\n",
              "    </tr>\n",
              "    <tr>\n",
              "      <th>bp</th>\n",
              "      <td>0.335427</td>\n",
              "      <td>0.241013</td>\n",
              "      <td>0.395415</td>\n",
              "      <td>1.000000</td>\n",
              "      <td>0.242470</td>\n",
              "      <td>0.185558</td>\n",
              "      <td>-0.178761</td>\n",
              "      <td>0.257653</td>\n",
              "      <td>0.393478</td>\n",
              "      <td>0.390429</td>\n",
              "      <td>0.441484</td>\n",
              "    </tr>\n",
              "    <tr>\n",
              "      <th>s1</th>\n",
              "      <td>0.260061</td>\n",
              "      <td>0.035277</td>\n",
              "      <td>0.249777</td>\n",
              "      <td>0.242470</td>\n",
              "      <td>1.000000</td>\n",
              "      <td>0.896663</td>\n",
              "      <td>0.051519</td>\n",
              "      <td>0.542207</td>\n",
              "      <td>0.515501</td>\n",
              "      <td>0.325717</td>\n",
              "      <td>0.212022</td>\n",
              "    </tr>\n",
              "    <tr>\n",
              "      <th>s2</th>\n",
              "      <td>0.219243</td>\n",
              "      <td>0.142637</td>\n",
              "      <td>0.261170</td>\n",
              "      <td>0.185558</td>\n",
              "      <td>0.896663</td>\n",
              "      <td>1.000000</td>\n",
              "      <td>-0.196455</td>\n",
              "      <td>0.659817</td>\n",
              "      <td>0.318353</td>\n",
              "      <td>0.290600</td>\n",
              "      <td>0.174054</td>\n",
              "    </tr>\n",
              "    <tr>\n",
              "      <th>s3</th>\n",
              "      <td>-0.075181</td>\n",
              "      <td>-0.379090</td>\n",
              "      <td>-0.366811</td>\n",
              "      <td>-0.178761</td>\n",
              "      <td>0.051519</td>\n",
              "      <td>-0.196455</td>\n",
              "      <td>1.000000</td>\n",
              "      <td>-0.738493</td>\n",
              "      <td>-0.398577</td>\n",
              "      <td>-0.273697</td>\n",
              "      <td>-0.394789</td>\n",
              "    </tr>\n",
              "    <tr>\n",
              "      <th>s4</th>\n",
              "      <td>0.203841</td>\n",
              "      <td>0.332115</td>\n",
              "      <td>0.413807</td>\n",
              "      <td>0.257653</td>\n",
              "      <td>0.542207</td>\n",
              "      <td>0.659817</td>\n",
              "      <td>-0.738493</td>\n",
              "      <td>1.000000</td>\n",
              "      <td>0.617857</td>\n",
              "      <td>0.417212</td>\n",
              "      <td>0.430453</td>\n",
              "    </tr>\n",
              "    <tr>\n",
              "      <th>s5</th>\n",
              "      <td>0.270777</td>\n",
              "      <td>0.149918</td>\n",
              "      <td>0.446159</td>\n",
              "      <td>0.393478</td>\n",
              "      <td>0.515501</td>\n",
              "      <td>0.318353</td>\n",
              "      <td>-0.398577</td>\n",
              "      <td>0.617857</td>\n",
              "      <td>1.000000</td>\n",
              "      <td>0.464670</td>\n",
              "      <td>0.565883</td>\n",
              "    </tr>\n",
              "    <tr>\n",
              "      <th>s6</th>\n",
              "      <td>0.301731</td>\n",
              "      <td>0.208133</td>\n",
              "      <td>0.388680</td>\n",
              "      <td>0.390429</td>\n",
              "      <td>0.325717</td>\n",
              "      <td>0.290600</td>\n",
              "      <td>-0.273697</td>\n",
              "      <td>0.417212</td>\n",
              "      <td>0.464670</td>\n",
              "      <td>1.000000</td>\n",
              "      <td>0.382483</td>\n",
              "    </tr>\n",
              "    <tr>\n",
              "      <th>Y</th>\n",
              "      <td>0.187889</td>\n",
              "      <td>0.043062</td>\n",
              "      <td>0.586450</td>\n",
              "      <td>0.441484</td>\n",
              "      <td>0.212022</td>\n",
              "      <td>0.174054</td>\n",
              "      <td>-0.394789</td>\n",
              "      <td>0.430453</td>\n",
              "      <td>0.565883</td>\n",
              "      <td>0.382483</td>\n",
              "      <td>1.000000</td>\n",
              "    </tr>\n",
              "  </tbody>\n",
              "</table>\n",
              "</div>"
            ],
            "text/plain": [
              "          age       sex       bmi  ...        s5        s6         Y\n",
              "age  1.000000  0.173737  0.185085  ...  0.270777  0.301731  0.187889\n",
              "sex  0.173737  1.000000  0.088161  ...  0.149918  0.208133  0.043062\n",
              "bmi  0.185085  0.088161  1.000000  ...  0.446159  0.388680  0.586450\n",
              "bp   0.335427  0.241013  0.395415  ...  0.393478  0.390429  0.441484\n",
              "s1   0.260061  0.035277  0.249777  ...  0.515501  0.325717  0.212022\n",
              "s2   0.219243  0.142637  0.261170  ...  0.318353  0.290600  0.174054\n",
              "s3  -0.075181 -0.379090 -0.366811  ... -0.398577 -0.273697 -0.394789\n",
              "s4   0.203841  0.332115  0.413807  ...  0.617857  0.417212  0.430453\n",
              "s5   0.270777  0.149918  0.446159  ...  1.000000  0.464670  0.565883\n",
              "s6   0.301731  0.208133  0.388680  ...  0.464670  1.000000  0.382483\n",
              "Y    0.187889  0.043062  0.586450  ...  0.565883  0.382483  1.000000\n",
              "\n",
              "[11 rows x 11 columns]"
            ]
          },
          "metadata": {
            "tags": []
          },
          "execution_count": 4
        }
      ]
    },
    {
      "cell_type": "markdown",
      "metadata": {
        "id": "Eupq0o82w2N8",
        "colab_type": "text"
      },
      "source": [
        "Resultados:\n",
        "*   s1 y s2 tienen la mas alta relacion reportada en la tabla con  *0.896663*, pro este motivo borraremos s2.\n",
        "*   s4 y s3 tambien tienen una alta relacion, con un valor de *-0.738493*, al ser negativo borarremos s4"
      ]
    },
    {
      "cell_type": "code",
      "metadata": {
        "id": "bWfFc_bvw2N9",
        "colab_type": "code",
        "colab": {
          "base_uri": "https://localhost:8080/",
          "height": 255
        },
        "outputId": "dfea67f6-d755-4c0f-dafe-f7936fead1f1"
      },
      "source": [
        "diabetes_df = diabetes_df.drop(['s2', 's4'], axis=1)\n",
        "print(diabetes_df)"
      ],
      "execution_count": 5,
      "outputs": [
        {
          "output_type": "stream",
          "text": [
            "          age       sex       bmi  ...        s5        s6      Y\n",
            "0    0.038076  0.050680  0.061696  ...  0.019908 -0.017646  151.0\n",
            "1   -0.001882 -0.044642 -0.051474  ... -0.068330 -0.092204   75.0\n",
            "2    0.085299  0.050680  0.044451  ...  0.002864 -0.025930  141.0\n",
            "3   -0.089063 -0.044642 -0.011595  ...  0.022692 -0.009362  206.0\n",
            "4    0.005383 -0.044642 -0.036385  ... -0.031991 -0.046641  135.0\n",
            "..        ...       ...       ...  ...       ...       ...    ...\n",
            "437  0.041708  0.050680  0.019662  ...  0.031193  0.007207  178.0\n",
            "438 -0.005515  0.050680 -0.015906  ... -0.018118  0.044485  104.0\n",
            "439  0.041708  0.050680 -0.015906  ... -0.046879  0.015491  132.0\n",
            "440 -0.045472 -0.044642  0.039062  ...  0.044528 -0.025930  220.0\n",
            "441 -0.045472 -0.044642 -0.073030  ... -0.004220  0.003064   57.0\n",
            "\n",
            "[442 rows x 9 columns]\n"
          ],
          "name": "stdout"
        }
      ]
    },
    {
      "cell_type": "markdown",
      "metadata": {
        "id": "_cpFQWKkw2N_",
        "colab_type": "text"
      },
      "source": [
        "## Comparacion entre transformaciones"
      ]
    },
    {
      "cell_type": "markdown",
      "metadata": {
        "id": "ShtqJHGtw2N_",
        "colab_type": "text"
      },
      "source": [
        "Al contar con numeros negativos en el data frame, no usaremos al no ser transformaciones recomendables para este set de datos:\n",
        "*   Ln\n",
        "*   Raiz\n",
        "\n",
        "\n",
        "\n"
      ]
    },
    {
      "cell_type": "code",
      "metadata": {
        "id": "mQYB3UUew2N_",
        "colab_type": "code",
        "colab": {
          "base_uri": "https://localhost:8080/",
          "height": 323
        },
        "outputId": "e05df1c4-b3a7-4685-d350-55ac5867e240"
      },
      "source": [
        "transformaciones = [\n",
        "  (\"Funcion Cuadratica\", lambda x: x**2),\n",
        "  (\"Funcion Exponencial\", lambda x: np.exp(x)),\n",
        "  (\"Funcion Identidad\", lambda x: x)\n",
        "]\n",
        "\n",
        "for nombre, trans in transformaciones:\n",
        "    df = diabetes_df.apply(trans)\n",
        "    X_train, X_test, y_train, y_test = train_test_split(df.drop(['Y'], axis=1), \n",
        "                                                        df['Y'],\n",
        "                                                        test_size=0.30)\n",
        "    \n",
        "    lm = LinearRegression()\n",
        "    lm.fit(X_train,y_train)\n",
        "    predictions = lm.predict(X_test)\n",
        "    print( nombre )\n",
        "    print('MAE:', metrics.mean_absolute_error(y_test, predictions))\n",
        "    print('MSE:', metrics.mean_squared_error(y_test, predictions))\n",
        "    print('RMSE:', np.sqrt(metrics.mean_squared_error(y_test, predictions)))\n",
        "    print(\" \\n\")\n",
        "    \n",
        "    "
      ],
      "execution_count": 6,
      "outputs": [
        {
          "output_type": "stream",
          "text": [
            "Funcion Cuadratica\n",
            "MAE: 22310.558029847405\n",
            "MSE: 706445806.8345096\n",
            "RMSE: 26579.048268034534\n",
            " \n",
            "\n",
            "Funcion Exponencial\n",
            "MAE: 2.0965827777875628e+148\n",
            "MSE: 6.958075449795596e+296\n",
            "RMSE: 2.6378164170001665e+148\n",
            " \n",
            "\n",
            "Funcion Identidad\n",
            "MAE: 44.703901998664755\n",
            "MSE: 3078.9662905552964\n",
            "RMSE: 55.488433844859024\n",
            " \n",
            "\n"
          ],
          "name": "stdout"
        }
      ]
    },
    {
      "cell_type": "markdown",
      "metadata": {
        "id": "nVVcDoYAw2OB",
        "colab_type": "text"
      },
      "source": [
        "El error mas pequeño se obtiene con la identidad(sin transformacion de datos). Por lo cual usaremos los datos sin transformar para minimizar el error."
      ]
    },
    {
      "cell_type": "markdown",
      "metadata": {
        "id": "HPl1RdsKw2OB",
        "colab_type": "text"
      },
      "source": [
        "## Modelo"
      ]
    },
    {
      "cell_type": "code",
      "metadata": {
        "id": "LiUBGHTw2XQ7",
        "colab_type": "code",
        "colab": {
          "base_uri": "https://localhost:8080/",
          "height": 255
        },
        "outputId": "017ab18a-ad6a-4a6f-eea3-f02d7d712e4b"
      },
      "source": [
        "print(diabetes_df)"
      ],
      "execution_count": 7,
      "outputs": [
        {
          "output_type": "stream",
          "text": [
            "          age       sex       bmi  ...        s5        s6      Y\n",
            "0    0.038076  0.050680  0.061696  ...  0.019908 -0.017646  151.0\n",
            "1   -0.001882 -0.044642 -0.051474  ... -0.068330 -0.092204   75.0\n",
            "2    0.085299  0.050680  0.044451  ...  0.002864 -0.025930  141.0\n",
            "3   -0.089063 -0.044642 -0.011595  ...  0.022692 -0.009362  206.0\n",
            "4    0.005383 -0.044642 -0.036385  ... -0.031991 -0.046641  135.0\n",
            "..        ...       ...       ...  ...       ...       ...    ...\n",
            "437  0.041708  0.050680  0.019662  ...  0.031193  0.007207  178.0\n",
            "438 -0.005515  0.050680 -0.015906  ... -0.018118  0.044485  104.0\n",
            "439  0.041708  0.050680 -0.015906  ... -0.046879  0.015491  132.0\n",
            "440 -0.045472 -0.044642  0.039062  ...  0.044528 -0.025930  220.0\n",
            "441 -0.045472 -0.044642 -0.073030  ... -0.004220  0.003064   57.0\n",
            "\n",
            "[442 rows x 9 columns]\n"
          ],
          "name": "stdout"
        }
      ]
    },
    {
      "cell_type": "code",
      "metadata": {
        "id": "-z-SjIddw2OC",
        "colab_type": "code",
        "colab": {
          "base_uri": "https://localhost:8080/",
          "height": 51
        },
        "outputId": "3dcbf3b6-bd03-4dc5-c3f7-e0bd43fefd35"
      },
      "source": [
        "x=diabetes_df.drop(['Y'],axis=1)\n",
        "y=diabetes_df[['Y']]\n",
        "y=np.reshape(y, (-1,1))\n",
        "scaler = MinMaxScaler()\n",
        "print(scaler.fit(x))\n",
        "print(scaler.fit(y))\n",
        "xscale=scaler.transform(x)\n",
        "yscale=scaler.transform(y)\n",
        "X_train, X_test, y_train, y_test = train_test_split(xscale, yscale, test_size=0.30)"
      ],
      "execution_count": 8,
      "outputs": [
        {
          "output_type": "stream",
          "text": [
            "MinMaxScaler(copy=True, feature_range=(0, 1))\n",
            "MinMaxScaler(copy=True, feature_range=(0, 1))\n"
          ],
          "name": "stdout"
        }
      ]
    },
    {
      "cell_type": "code",
      "metadata": {
        "id": "lif_bGkUw2OE",
        "colab_type": "code",
        "colab": {}
      },
      "source": [
        "def graficar(history, units):    \n",
        "    print(history.history.keys())\n",
        "    plt.plot(history.history['loss'])\n",
        "    plt.plot(history.history['val_loss'])\n",
        "    plt.title('Modelo con ' + str(units) + \" neuronas\")\n",
        "    plt.ylabel('Perdida')\n",
        "    plt.xlabel('Periodo')\n",
        "    plt.legend(['Entrenamiento', 'validacion'], loc='upper left')\n",
        "    plt.show()"
      ],
      "execution_count": 0,
      "outputs": []
    },
    {
      "cell_type": "code",
      "metadata": {
        "id": "82JYD_2_w2OG",
        "colab_type": "code",
        "colab": {
          "base_uri": "https://localhost:8080/",
          "height": 1000
        },
        "outputId": "9d9dff38-8030-40e4-a587-0bf56fbafbeb"
      },
      "source": [
        "listaNeuronas = [2, 15, 612, 3040, 7084]\n",
        "for neuronas in listaNeuronas:\n",
        "    model = Sequential()\n",
        "    model.add(Dense(neuronas, input_dim=X_train.shape[1], kernel_initializer='normal', activation='relu'))\n",
        "    model.add(Dense(1, activation='linear'))\n",
        "    model.summary()\n",
        "    model.compile(loss='mse', optimizer='adam', metrics=['mse','mae'])\n",
        "    history = model.fit(X_train, y_train, epochs=150, batch_size=70, verbose=0, validation_split=0.15)\n",
        "    graficar(history, neuronas)"
      ],
      "execution_count": 10,
      "outputs": [
        {
          "output_type": "stream",
          "text": [
            "Model: \"sequential\"\n",
            "_________________________________________________________________\n",
            "Layer (type)                 Output Shape              Param #   \n",
            "=================================================================\n",
            "dense (Dense)                (None, 2)                 18        \n",
            "_________________________________________________________________\n",
            "dense_1 (Dense)              (None, 1)                 3         \n",
            "=================================================================\n",
            "Total params: 21\n",
            "Trainable params: 21\n",
            "Non-trainable params: 0\n",
            "_________________________________________________________________\n",
            "dict_keys(['loss', 'mean_squared_error', 'mean_absolute_error', 'val_loss', 'val_mean_squared_error', 'val_mean_absolute_error'])\n"
          ],
          "name": "stdout"
        },
        {
          "output_type": "display_data",
          "data": {
            "image/png": "[encoded data removed]",
            "text/plain": [
              "<Figure size 432x288 with 1 Axes>"
            ]
          },
          "metadata": {
            "tags": []
          }
        },
        {
          "output_type": "stream",
          "text": [
            "Model: \"sequential_1\"\n",
            "_________________________________________________________________\n",
            "Layer (type)                 Output Shape              Param #   \n",
            "=================================================================\n",
            "dense_2 (Dense)              (None, 15)                135       \n",
            "_________________________________________________________________\n",
            "dense_3 (Dense)              (None, 1)                 16        \n",
            "=================================================================\n",
            "Total params: 151\n",
            "Trainable params: 151\n",
            "Non-trainable params: 0\n",
            "_________________________________________________________________\n",
            "dict_keys(['loss', 'mean_squared_error', 'mean_absolute_error', 'val_loss', 'val_mean_squared_error', 'val_mean_absolute_error'])\n"
          ],
          "name": "stdout"
        },
        {
          "output_type": "display_data",
          "data": {
            "image/png": "[encoded data removed]",
            "text/plain": [
              "<Figure size 432x288 with 1 Axes>"
            ]
          },
          "metadata": {
            "tags": []
          }
        },
        {
          "output_type": "stream",
          "text": [
            "Model: \"sequential_2\"\n",
            "_________________________________________________________________\n",
            "Layer (type)                 Output Shape              Param #   \n",
            "=================================================================\n",
            "dense_4 (Dense)              (None, 612)               5508      \n",
            "_________________________________________________________________\n",
            "dense_5 (Dense)              (None, 1)                 613       \n",
            "=================================================================\n",
            "Total params: 6,121\n",
            "Trainable params: 6,121\n",
            "Non-trainable params: 0\n",
            "_________________________________________________________________\n",
            "dict_keys(['loss', 'mean_squared_error', 'mean_absolute_error', 'val_loss', 'val_mean_squared_error', 'val_mean_absolute_error'])\n"
          ],
          "name": "stdout"
        },
        {
          "output_type": "display_data",
          "data": {
            "image/png": "[encoded data removed]",
            "text/plain": [
              "<Figure size 432x288 with 1 Axes>"
            ]
          },
          "metadata": {
            "tags": []
          }
        },
        {
          "output_type": "stream",
          "text": [
            "Model: \"sequential_3\"\n",
            "_________________________________________________________________\n",
            "Layer (type)                 Output Shape              Param #   \n",
            "=================================================================\n",
            "dense_6 (Dense)              (None, 3040)              27360     \n",
            "_________________________________________________________________\n",
            "dense_7 (Dense)              (None, 1)                 3041      \n",
            "=================================================================\n",
            "Total params: 30,401\n",
            "Trainable params: 30,401\n",
            "Non-trainable params: 0\n",
            "_________________________________________________________________\n",
            "dict_keys(['loss', 'mean_squared_error', 'mean_absolute_error', 'val_loss', 'val_mean_squared_error', 'val_mean_absolute_error'])\n"
          ],
          "name": "stdout"
        },
        {
          "output_type": "display_data",
          "data": {
            "image/png": "[encoded data removed]",
            "text/plain": [
              "<Figure size 432x288 with 1 Axes>"
            ]
          },
          "metadata": {
            "tags": []
          }
        },
        {
          "output_type": "stream",
          "text": [
            "Model: \"sequential_4\"\n",
            "_________________________________________________________________\n",
            "Layer (type)                 Output Shape              Param #   \n",
            "=================================================================\n",
            "dense_8 (Dense)              (None, 7084)              63756     \n",
            "_________________________________________________________________\n",
            "dense_9 (Dense)              (None, 1)                 7085      \n",
            "=================================================================\n",
            "Total params: 70,841\n",
            "Trainable params: 70,841\n",
            "Non-trainable params: 0\n",
            "_________________________________________________________________\n",
            "dict_keys(['loss', 'mean_squared_error', 'mean_absolute_error', 'val_loss', 'val_mean_squared_error', 'val_mean_absolute_error'])\n"
          ],
          "name": "stdout"
        },
        {
          "output_type": "display_data",
          "data": {
            "image/png": "[encoded data removed]",
            "text/plain": [
              "<Figure size 432x288 with 1 Axes>"
            ]
          },
          "metadata": {
            "tags": []
          }
        }
      ]
    },
    {
      "cell_type": "markdown",
      "metadata": {
        "id": "09LZi0sTw2OH",
        "colab_type": "text"
      },
      "source": [
        "En este caso se tomo una cantidad de neuronas aleatorias menores a 10000.\n",
        "Con los gráficos podemos observar que partir de 15 neuronas se vuelven muy parecidos los modelos y cuando las neuronas son muchas empieza a haber mas fluctuación en las perdidas. 2 neuronas muestran resultados favorables no son suficientes dado que su desempeño en el periodo no es el mejor, con un número cercano a 15 las perdidas no fluctuan mucho.\n",
        "\n"
      ]
    },
    {
      "cell_type": "markdown",
      "metadata": {
        "id": "fZIxgT6Tw2OI",
        "colab_type": "text"
      },
      "source": [
        "## Comparacion de resultados utilizando crossvalidation"
      ]
    },
    {
      "cell_type": "code",
      "metadata": {
        "id": "px4skfI2w2OI",
        "colab_type": "code",
        "colab": {
          "base_uri": "https://localhost:8080/",
          "height": 190
        },
        "outputId": "a9c0217b-f4fc-4e1f-eba9-4c9ada642a26"
      },
      "source": [
        "X = diabetes_df.drop([\"Y\"],axis = 1).values\n",
        "y = diabetes_df[\"Y\"].values\n",
        "\n",
        "def cross_validation(train_index, test_index,X,y):    \n",
        "    \n",
        "    X_train, X_test = pd.DataFrame(X[train_index]), pd.DataFrame(X[test_index])\n",
        "    y_train, y_test = pd.DataFrame(y[train_index]), pd.DataFrame(y[test_index])\n",
        "    \n",
        "    X_train.columns = ['age', 'sex', 'bmi', 'bp', 's1', 's3', 's5', 's6']\n",
        "    X_test.columns = X_train.columns = ['age', 'sex', 'bmi', 'bp', 's1', 's3', 's5', 's6']\n",
        "\n",
        "    sex = tf.feature_column.numeric_column('sex')\n",
        "    bmi = tf.feature_column.numeric_column('bmi')\n",
        "    bp = tf.feature_column.numeric_column('bp')\n",
        "    s1 = tf.feature_column.numeric_column('s1')\n",
        "    s5 = tf.feature_column.numeric_column('s5')\n",
        "    s6 = tf.feature_column.numeric_column('s6')\n",
        "\n",
        "    feat_cols = [sex, bmi, bp, s1, s5, s6]\n",
        "    input_func = tf.estimator.inputs.pandas_input_fn(x=X_train,\n",
        "                                                     y= y_train[0],\n",
        "                                                     batch_size=10,\n",
        "                                                     num_epochs=3000,\n",
        "                                                     shuffle=False)\n",
        "    \n",
        "    model = tf.estimator.DNNRegressor(hidden_units=[4,4,4],feature_columns=feat_cols)\n",
        "\n",
        "    model.train(input_fn=input_func,steps=5000)\n",
        "\n",
        "    predict_input_func = tf.estimator.inputs.pandas_input_fn(\n",
        "        x=X_test,\n",
        "        batch_size=10,\n",
        "        num_epochs=1,\n",
        "        shuffle=False)\n",
        "\n",
        "    pred_gen = model.predict(predict_input_func)\n",
        "\n",
        "    predictions = list(pred_gen)\n",
        "\n",
        "    final_preds = []\n",
        "\n",
        "    for pred in predictions:\n",
        "        final_preds.append(pred['predictions'])   \n",
        "\n",
        "    return metrics.mean_squared_error(y_test, final_preds)\n",
        "\n",
        "from sklearn.model_selection import KFold\n",
        "kf = KFold(n_splits=4)\n",
        "\n",
        "resultado_cross = []\n",
        "\n",
        "for train_index, test_index in kf.split(X):    \n",
        "    resultado_cross.append(cross_validation(train_index,test_index,X,y))\n",
        "    \n",
        "print(\"MSE del Cross validation: \", np.array(resultado_cross).sum()/len(resultado_cross))"
      ],
      "execution_count": 11,
      "outputs": [
        {
          "output_type": "stream",
          "text": [
            "WARNING: Entity <bound method _DNNModel.call of <tensorflow_estimator.python.estimator.canned.dnn._DNNModel object at 0x7f5b7b9820f0>> could not be transformed and will be executed as-is. Please report this to the AutoGraph team. When filing the bug, set the verbosity to 10 (on Linux, `export AUTOGRAPH_VERBOSITY=10`) and attach the full output. Cause: module 'gast' has no attribute 'Num'\n",
            "WARNING: Entity <bound method _DNNModel.call of <tensorflow_estimator.python.estimator.canned.dnn._DNNModel object at 0x7f5b74e340b8>> could not be transformed and will be executed as-is. Please report this to the AutoGraph team. When filing the bug, set the verbosity to 10 (on Linux, `export AUTOGRAPH_VERBOSITY=10`) and attach the full output. Cause: module 'gast' has no attribute 'Num'\n",
            "WARNING: Entity <bound method _DNNModel.call of <tensorflow_estimator.python.estimator.canned.dnn._DNNModel object at 0x7f5b76c4f5f8>> could not be transformed and will be executed as-is. Please report this to the AutoGraph team. When filing the bug, set the verbosity to 10 (on Linux, `export AUTOGRAPH_VERBOSITY=10`) and attach the full output. Cause: module 'gast' has no attribute 'Num'\n",
            "WARNING: Entity <bound method _DNNModel.call of <tensorflow_estimator.python.estimator.canned.dnn._DNNModel object at 0x7f5b76a64710>> could not be transformed and will be executed as-is. Please report this to the AutoGraph team. When filing the bug, set the verbosity to 10 (on Linux, `export AUTOGRAPH_VERBOSITY=10`) and attach the full output. Cause: module 'gast' has no attribute 'Num'\n",
            "WARNING: Entity <bound method _DNNModel.call of <tensorflow_estimator.python.estimator.canned.dnn._DNNModel object at 0x7f5b76ad6278>> could not be transformed and will be executed as-is. Please report this to the AutoGraph team. When filing the bug, set the verbosity to 10 (on Linux, `export AUTOGRAPH_VERBOSITY=10`) and attach the full output. Cause: module 'gast' has no attribute 'Num'\n",
            "WARNING: Entity <bound method _DNNModel.call of <tensorflow_estimator.python.estimator.canned.dnn._DNNModel object at 0x7f5b74dc3b38>> could not be transformed and will be executed as-is. Please report this to the AutoGraph team. When filing the bug, set the verbosity to 10 (on Linux, `export AUTOGRAPH_VERBOSITY=10`) and attach the full output. Cause: module 'gast' has no attribute 'Num'\n",
            "WARNING: Entity <bound method _DNNModel.call of <tensorflow_estimator.python.estimator.canned.dnn._DNNModel object at 0x7f5b76e91d68>> could not be transformed and will be executed as-is. Please report this to the AutoGraph team. When filing the bug, set the verbosity to 10 (on Linux, `export AUTOGRAPH_VERBOSITY=10`) and attach the full output. Cause: module 'gast' has no attribute 'Num'\n",
            "WARNING: Entity <bound method _DNNModel.call of <tensorflow_estimator.python.estimator.canned.dnn._DNNModel object at 0x7f5b76999128>> could not be transformed and will be executed as-is. Please report this to the AutoGraph team. When filing the bug, set the verbosity to 10 (on Linux, `export AUTOGRAPH_VERBOSITY=10`) and attach the full output. Cause: module 'gast' has no attribute 'Num'\n",
            "MSE del Cross validation:  3114.7583141327636\n"
          ],
          "name": "stdout"
        }
      ]
    },
    {
      "cell_type": "markdown",
      "metadata": {
        "id": "8PVlkv62w2OJ",
        "colab_type": "text"
      },
      "source": [
        "# Conclusión\n",
        "\n",
        "Ateriormente seleccionamos\n",
        "\n",
        "Funcion Identidad\n",
        "*   MAE: 44.703901998664755\n",
        "*   MSE: 3078.9662905552964\n",
        "*   RMSE: 55.488433844859024\n",
        "\n",
        "Red Neuronal\n",
        "*   MSE: 3114.7583141327636\n",
        "\n",
        "El MSE de la red neuronal nos da menor por lo que sería el modelo adecuado para aplicar."
      ]
    },
    {
      "cell_type": "code",
      "metadata": {
        "id": "B_kfTjtbEDQW",
        "colab_type": "code",
        "colab": {}
      },
      "source": [
        ""
      ],
      "execution_count": 0,
      "outputs": []
    }
  ]
}